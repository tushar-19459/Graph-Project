{
 "cells": [
  {
   "cell_type": "code",
   "execution_count": 6,
   "id": "d66e56c1",
   "metadata": {},
   "outputs": [],
   "source": [
    "import pandas as pd\n",
    "import numpy as np\n",
    "\n",
    "data = {}\n",
    "columns = 10 \n",
    "rows = 200\n",
    "num = np.random.randint(1000,15000)\n",
    "for i in range(0,columns):\n",
    "    data[f'col_{i}'] = [np.random.randint(1000,15000) for i in range(0,rows)]\n",
    "\n",
    "data = pd.DataFrame(data)\n",
    "data.to_csv('dataset.csv',index=False)"
   ]
  }
 ],
 "metadata": {
  "kernelspec": {
   "display_name": "graphProject",
   "language": "python",
   "name": "python3"
  },
  "language_info": {
   "codemirror_mode": {
    "name": "ipython",
    "version": 3
   },
   "file_extension": ".py",
   "mimetype": "text/x-python",
   "name": "python",
   "nbconvert_exporter": "python",
   "pygments_lexer": "ipython3",
   "version": "3.13.7"
  }
 },
 "nbformat": 4,
 "nbformat_minor": 5
}
